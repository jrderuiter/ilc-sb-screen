{
 "cells": [
  {
   "cell_type": "code",
   "execution_count": 1,
   "metadata": {
    "collapsed": true
   },
   "outputs": [],
   "source": [
    "%reload_ext autoreload\n",
    "%autoreload 2\n",
    "\n",
    "%matplotlib inline\n",
    "\n",
    "import sys\n",
    "sys.path.append('../src')\n",
    "\n",
    "import numpy as np\n",
    "import matplotlib.pyplot as plt\n",
    "import pandas as pd\n",
    "import seaborn as sns\n",
    "\n",
    "sns.set_style('white')"
   ]
  },
  {
   "cell_type": "code",
   "execution_count": 2,
   "metadata": {
    "collapsed": false
   },
   "outputs": [
    {
     "data": {
      "image/png": "[encoded data removed]",
      "text/plain": [
       "<matplotlib.figure.Figure at 0x11157d0b8>"
      ]
     },
     "metadata": {},
     "output_type": "display_data"
    }
   ],
   "source": [
    "insertions = pd.read_csv('../data/processed/shear_splink/all/insertions.cis.rbm.txt', sep='\\t')\n",
    "\n",
    "fig, ax = plt.subplots(figsize=(5, 4))\n",
    "sns.countplot(data=(insertions.query('gene_name == \"Myh9\"')\n",
    "                              .groupby('sample')['id'].nunique()\n",
    "                              .to_frame(name='count')),\n",
    "              x='count', color='lightgrey', ax=ax)\n",
    "sns.despine()\n",
    "\n",
    "ax.set_xlabel('Number of insertions in sample')\n",
    "ax.set_ylabel('Number of samples');"
   ]
  },
  {
   "cell_type": "code",
   "execution_count": 3,
   "metadata": {
    "collapsed": false
   },
   "outputs": [
    {
     "data": {
      "image/png": "[encoded data removed]",
      "text/plain": [
       "<matplotlib.figure.Figure at 0x11161ab70>"
      ]
     },
     "metadata": {},
     "output_type": "display_data"
    }
   ],
   "source": [
    "with sns.plotting_context('paper', font_scale=0.7):\n",
    "    fig, ax = plt.subplots(figsize=(2.5, 2))\n",
    "    sns.countplot(data=(insertions.query('gene_name == \"Myh9\"')\n",
    "                                  .groupby('sample')['id'].nunique()\n",
    "                                  .to_frame(name='count')),\n",
    "                  x='count', color='lightgrey', ax=ax)\n",
    "    sns.despine()\n",
    "\n",
    "    ax.set_xlabel('Number of insertions in sample')\n",
    "    ax.set_ylabel('Number of samples');\n",
    "    \n",
    "    fig.savefig('../reports/supplemental/figures/fig_s7_myh9_insertions.pdf',\n",
    "                bbox_inches='tight')"
   ]
  }
 ],
 "metadata": {
  "anaconda-cloud": {},
  "kernelspec": {
   "display_name": "Python 3",
   "language": "python",
   "name": "python3"
  },
  "language_info": {
   "codemirror_mode": {
    "name": "ipython",
    "version": 3
   },
   "file_extension": ".py",
   "mimetype": "text/x-python",
   "name": "python",
   "nbconvert_exporter": "python",
   "pygments_lexer": "ipython3",
   "version": "3.5.2"
  }
 },
 "nbformat": 4,
 "nbformat_minor": 1
}
