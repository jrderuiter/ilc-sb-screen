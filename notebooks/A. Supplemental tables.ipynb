{
 "cells": [
  {
   "cell_type": "code",
   "execution_count": 1,
   "metadata": {
    "collapsed": true
   },
   "outputs": [],
   "source": [
    "import sys\n",
    "sys.path.append('../src')\n",
    "\n",
    "import pandas as pd"
   ]
  },
  {
   "cell_type": "markdown",
   "metadata": {},
   "source": [
    "# Table S1 - Sample overview"
   ]
  },
  {
   "cell_type": "code",
   "execution_count": 2,
   "metadata": {
    "collapsed": false
   },
   "outputs": [],
   "source": [
    "# Read sample overview.\n",
    "samples = pd.read_csv('../data/raw/samples.txt', sep='\\t')\n",
    "\n",
    "# Rename T2onc strains.\n",
    "strain_map = {1868: 'chr15-donor',\n",
    "              1869: 'chr1-donor'}\n",
    "samples['t2onc_type'] = samples['t2onc_type'].map(strain_map)\n",
    "\n",
    "# Remove unneeded columns.\n",
    "del samples['rnaseq_full_name']\n",
    "del samples['tumor_type']\n",
    "\n",
    "# Summarize metastases per mouse.\n",
    "metastases = pd.read_csv('../data/raw/metastases.txt', sep='\\t')\n",
    "metastases = metastases.ix[metastases['mouse'].isin(samples['mouse'])]\n",
    "\n",
    "# Merge metastasis data with samples.\n",
    "met_sites = (metastases.groupby('mouse')\n",
    "                       .agg({'metastasis_site': lambda s: ', '.join(s)})\n",
    "                       .reset_index())\n",
    "\n",
    "samples = pd.merge(samples, met_sites, on='mouse', how='left')\n",
    "samples.to_excel('../reports/supplemental/tables/table_s1_samples.xlsx', index=False)"
   ]
  },
  {
   "cell_type": "markdown",
   "metadata": {},
   "source": [
    "# Table S2 - Candidate overview"
   ]
  },
  {
   "cell_type": "code",
   "execution_count": 4,
   "metadata": {
    "collapsed": false
   },
   "outputs": [],
   "source": [
    "import pybiomart\n",
    "from nbsupport import insertions as nb_ins\n",
    "\n",
    "\n",
    "# Read insertions.\n",
    "insertions = (pd.read_csv('../data/processed/shear_splink/all/insertions.cis.rbm.txt', sep='\\t')\n",
    "                .pipe(nb_ins.annotate_with_clonality))\n",
    "insertions_1868 = (pd.read_csv('../data/processed/shear_splink/1868/insertions.cis.rbm.txt', sep='\\t')\n",
    "                     .pipe(nb_ins.annotate_with_clonality))\n",
    "insertions_1869 = (pd.read_csv('../data/processed/shear_splink/1869/insertions.cis.rbm.txt', sep='\\t')\n",
    "                     .pipe(nb_ins.annotate_with_clonality))\n",
    "\n",
    "# Summarize various statistics (including donor bias) for genes\n",
    "# that were identified in the overall CIS analysis.\n",
    "ranked_summary = (\n",
    "    pd.concat([\n",
    "        nb_ins.gene_statistics(insertions), \n",
    "        nb_ins.gene_sample_count(insertions_1868, name='n_samples_chr15_donor'),\n",
    "        nb_ins.gene_sample_count(insertions_1869, name='n_samples_chr1_donor')], axis=1)\n",
    "    .dropna(subset=['n_samples']))\n",
    "\n",
    "ranked_summary.index.name = 'gene_name'\n",
    "ranked_summary = ranked_summary.reset_index()\n",
    "\n",
    "# Annotate location using biomart.\n",
    "bm_dataset = pybiomart.Dataset(name='mmusculus_gene_ensembl',\n",
    "                               host='http://www.ensembl.org')\n",
    "\n",
    "bm_annotation = bm_dataset.query(\n",
    "    attributes=['external_gene_name', 'chromosome_name',\n",
    "                'start_position', 'end_position', 'strand'],\n",
    "    use_attr_names=True)\n",
    "\n",
    "bm_annotation = bm_annotation.rename(\n",
    "    columns={'external_gene_name': 'gene_name'})\n",
    "\n",
    "ranked_summary = pd.merge(ranked_summary, bm_annotation, on='gene_name', how='left')\n",
    "\n",
    "# Re-order columns for legibility.\n",
    "ranked_summary = ranked_summary[\n",
    "    ['gene_name', 'chromosome_name', 'start_position', 'end_position',\n",
    "     'strand', 'n_samples', 'n_samples_chr15_donor', 'n_samples_chr1_donor',\n",
    "     'mean_clonality', 'sense_fraction_weighted']]\n",
    "\n",
    "# Sort by frequency/clonality.\n",
    "ranked_summary.sort_values(['n_samples', 'mean_clonality'],\n",
    "                           ascending=False, inplace=True)\n",
    "\n",
    "ranked_summary.to_excel('../reports/supplemental/tables/table_s2_candidate_overview.xlsx', index=False)"
   ]
  },
  {
   "cell_type": "code",
   "execution_count": 5,
   "metadata": {
    "collapsed": false
   },
   "outputs": [
    {
     "name": "stdout",
     "output_type": "stream",
     "text": [
      "Chromosome 1\n"
     ]
    },
    {
     "data": {
      "text/html": [
       "<div>\n",
       "<table border=\"1\" class=\"dataframe\">\n",
       "  <thead>\n",
       "    <tr style=\"text-align: right;\">\n",
       "      <th></th>\n",
       "      <th>gene_name</th>\n",
       "      <th>chromosome_name</th>\n",
       "      <th>start_position</th>\n",
       "      <th>end_position</th>\n",
       "      <th>strand</th>\n",
       "      <th>n_samples</th>\n",
       "      <th>n_samples_chr15_donor</th>\n",
       "      <th>n_samples_chr1_donor</th>\n",
       "      <th>mean_clonality</th>\n",
       "      <th>sense_fraction_weighted</th>\n",
       "    </tr>\n",
       "  </thead>\n",
       "  <tbody>\n",
       "    <tr>\n",
       "      <th>28</th>\n",
       "      <td>Trp53bp2</td>\n",
       "      <td>1</td>\n",
       "      <td>182409172</td>\n",
       "      <td>182462432</td>\n",
       "      <td>1</td>\n",
       "      <td>17.0</td>\n",
       "      <td>3.0</td>\n",
       "      <td>14.0</td>\n",
       "      <td>0.723605</td>\n",
       "      <td>0.866325</td>\n",
       "    </tr>\n",
       "    <tr>\n",
       "      <th>18</th>\n",
       "      <td>Ppp1r12b</td>\n",
       "      <td>1</td>\n",
       "      <td>134754658</td>\n",
       "      <td>134955942</td>\n",
       "      <td>-1</td>\n",
       "      <td>9.0</td>\n",
       "      <td>4.0</td>\n",
       "      <td>5.0</td>\n",
       "      <td>0.461452</td>\n",
       "      <td>0.210206</td>\n",
       "    </tr>\n",
       "  </tbody>\n",
       "</table>\n",
       "</div>"
      ],
      "text/plain": [
       "   gene_name chromosome_name  start_position  end_position  strand  n_samples  \\\n",
       "28  Trp53bp2               1       182409172     182462432       1       17.0   \n",
       "18  Ppp1r12b               1       134754658     134955942      -1        9.0   \n",
       "\n",
       "    n_samples_chr15_donor  n_samples_chr1_donor  mean_clonality  \\\n",
       "28                    3.0                  14.0        0.723605   \n",
       "18                    4.0                   5.0        0.461452   \n",
       "\n",
       "    sense_fraction_weighted  \n",
       "28                 0.866325  \n",
       "18                 0.210206  "
      ]
     },
     "metadata": {},
     "output_type": "display_data"
    },
    {
     "name": "stdout",
     "output_type": "stream",
     "text": [
      "Chromosome 15\n"
     ]
    },
    {
     "data": {
      "text/html": [
       "<div>\n",
       "<table border=\"1\" class=\"dataframe\">\n",
       "  <thead>\n",
       "    <tr style=\"text-align: right;\">\n",
       "      <th></th>\n",
       "      <th>gene_name</th>\n",
       "      <th>chromosome_name</th>\n",
       "      <th>start_position</th>\n",
       "      <th>end_position</th>\n",
       "      <th>strand</th>\n",
       "      <th>n_samples</th>\n",
       "      <th>n_samples_chr15_donor</th>\n",
       "      <th>n_samples_chr1_donor</th>\n",
       "      <th>mean_clonality</th>\n",
       "      <th>sense_fraction_weighted</th>\n",
       "    </tr>\n",
       "  </thead>\n",
       "  <tbody>\n",
       "    <tr>\n",
       "      <th>29</th>\n",
       "      <td>Trps1</td>\n",
       "      <td>15</td>\n",
       "      <td>50654752</td>\n",
       "      <td>50890463</td>\n",
       "      <td>-1</td>\n",
       "      <td>56.0</td>\n",
       "      <td>36.0</td>\n",
       "      <td>20.0</td>\n",
       "      <td>0.598344</td>\n",
       "      <td>0.048900</td>\n",
       "    </tr>\n",
       "    <tr>\n",
       "      <th>14</th>\n",
       "      <td>Myh9</td>\n",
       "      <td>15</td>\n",
       "      <td>77760587</td>\n",
       "      <td>77842175</td>\n",
       "      <td>-1</td>\n",
       "      <td>32.0</td>\n",
       "      <td>21.0</td>\n",
       "      <td>10.0</td>\n",
       "      <td>0.774573</td>\n",
       "      <td>0.175493</td>\n",
       "    </tr>\n",
       "  </tbody>\n",
       "</table>\n",
       "</div>"
      ],
      "text/plain": [
       "   gene_name chromosome_name  start_position  end_position  strand  n_samples  \\\n",
       "29     Trps1              15        50654752      50890463      -1       56.0   \n",
       "14      Myh9              15        77760587      77842175      -1       32.0   \n",
       "\n",
       "    n_samples_chr15_donor  n_samples_chr1_donor  mean_clonality  \\\n",
       "29                   36.0                  20.0        0.598344   \n",
       "14                   21.0                  10.0        0.774573   \n",
       "\n",
       "    sense_fraction_weighted  \n",
       "29                 0.048900  \n",
       "14                 0.175493  "
      ]
     },
     "metadata": {},
     "output_type": "display_data"
    }
   ],
   "source": [
    "from IPython.display import display\n",
    "\n",
    "# Print donor chromosome genes.\n",
    "for chrom in ['1', '15']:\n",
    "    print('Chromosome {}'.format(chrom))\n",
    "    display(ranked_summary.query('chromosome_name == {!r}'.format(chrom)))"
   ]
  },
  {
   "cell_type": "markdown",
   "metadata": {},
   "source": [
    "# Table S5 - Expression"
   ]
  },
  {
   "cell_type": "code",
   "execution_count": 3,
   "metadata": {
    "collapsed": false
   },
   "outputs": [],
   "source": [
    "sb_counts = pd.read_csv('../data/processed/expression/expression.sb.txt', sep='\\t', index_col=0)\n",
    "sb_counts = sb_counts[samples['sample']]\n",
    "\n",
    "kb1p_counts = pd.read_csv('../data/external/mouse-models/expression.kb1p.txt', sep='\\t', index_col=0)\n",
    "pten_counts = pd.read_csv('../data/external/mouse-models/expression.pten.txt', sep='\\t', index_col=0)\n",
    "\n",
    "with pd.ExcelWriter('../reports/supplemental/tables/table_s5_expression.xlsx') as writer:\n",
    "    sb_counts.to_excel(writer, sheet_name='SB samples')\n",
    "    kb1p_counts.to_excel(writer, sheet_name='KB1P samples')\n",
    "    pten_counts.to_excel(writer, sheet_name='EcadPten samples')"
   ]
  },
  {
   "cell_type": "markdown",
   "metadata": {},
   "source": [
    "# Table S6 - Insertions"
   ]
  },
  {
   "cell_type": "code",
   "execution_count": 4,
   "metadata": {
    "collapsed": false
   },
   "outputs": [],
   "source": [
    "insertions = pd.read_csv('../data/processed/shear_splink/all/insertions.txt', sep='\\t')\n",
    "insertions_annotated = pd.read_csv('../data/processed/shear_splink/all/insertions.cis.rbm.txt', sep='\\t')\n",
    "\n",
    "cis_sites = pd.read_csv('../data/processed/shear_splink/all/insertions.cis.sites.txt', sep='\\t')\n",
    "cis_insertions = pd.read_csv('../data/processed/shear_splink/all/insertions.cis.txt', sep='\\t')\n",
    "\n",
    "cis_mapping = cis_insertions[['id', 'cis_id']]\n",
    "\n",
    "with pd.ExcelWriter('../reports/supplemental/tables/table_s6_insertions.xlsx') as writer:\n",
    "    insertions.to_excel(writer, sheet_name='insertions', index=False)\n",
    "    cis_sites.to_excel(writer, sheet_name='cis_sites', index=False)\n",
    "    cis_mapping.to_excel(writer, sheet_name='cis_mapping', index=False)\n",
    "    insertions_annotated.to_excel(writer, sheet_name='insertions_annotated', index=False)"
   ]
  }
 ],
 "metadata": {
  "anaconda-cloud": {},
  "kernelspec": {
   "display_name": "Python 3",
   "language": "python",
   "name": "python3"
  },
  "language_info": {
   "codemirror_mode": {
    "name": "ipython",
    "version": 3
   },
   "file_extension": ".py",
   "mimetype": "text/x-python",
   "name": "python",
   "nbconvert_exporter": "python",
   "pygments_lexer": "ipython3",
   "version": "3.5.2"
  }
 },
 "nbformat": 4,
 "nbformat_minor": 1
}
