{
 "cells": [
  {
   "cell_type": "markdown",
   "metadata": {},
   "source": [
    "# Supplemental Figures\n",
    "\n",
    "This Jupyter notebook reproduces a number of Supplemental Figures that are not included in any of the other notebooks."
   ]
  },
  {
   "cell_type": "code",
   "execution_count": 1,
   "metadata": {
    "collapsed": false
   },
   "outputs": [],
   "source": [
    "%reload_ext autoreload\n",
    "%autoreload 2\n",
    "\n",
    "%matplotlib inline\n",
    "\n",
    "import sys\n",
    "sys.path.append('../src')\n",
    "\n",
    "import numpy as np\n",
    "import matplotlib.pyplot as plt\n",
    "import pandas as pd\n",
    "import seaborn as sns\n",
    "\n",
    "sns.set_style('white')"
   ]
  },
  {
   "cell_type": "markdown",
   "metadata": {},
   "source": [
    "## Supplementary Figure S1 - Morphology (controls)"
   ]
  },
  {
   "cell_type": "code",
   "execution_count": 2,
   "metadata": {
    "collapsed": false
   },
   "outputs": [
    {
     "data": {
      "text/html": [
       "<div>\n",
       "<table border=\"1\" class=\"dataframe\">\n",
       "  <thead>\n",
       "    <tr style=\"text-align: right;\">\n",
       "      <th></th>\n",
       "      <th>mouse</th>\n",
       "      <th>genotype</th>\n",
       "      <th>pathology_type</th>\n",
       "      <th>sample</th>\n",
       "    </tr>\n",
       "  </thead>\n",
       "  <tbody>\n",
       "    <tr>\n",
       "      <th>0</th>\n",
       "      <td>10KOU033</td>\n",
       "      <td>WapCre;Cdh1F/+;SB</td>\n",
       "      <td>adenocarcinoma</td>\n",
       "      <td>10KOU033</td>\n",
       "    </tr>\n",
       "    <tr>\n",
       "      <th>1</th>\n",
       "      <td>11KOU046</td>\n",
       "      <td>WapCre;Cdh1F/+;SB</td>\n",
       "      <td>adenocarcinoma</td>\n",
       "      <td>11KOU046</td>\n",
       "    </tr>\n",
       "    <tr>\n",
       "      <th>2</th>\n",
       "      <td>14SKA062</td>\n",
       "      <td>WapCre;Cdh1F/+;SB</td>\n",
       "      <td>adenocarcinoma</td>\n",
       "      <td>14SKA062</td>\n",
       "    </tr>\n",
       "    <tr>\n",
       "      <th>3</th>\n",
       "      <td>14SKA124</td>\n",
       "      <td>WapCre;Cdh1F/+;SB</td>\n",
       "      <td>spindle cell tumor</td>\n",
       "      <td>14SKA124</td>\n",
       "    </tr>\n",
       "    <tr>\n",
       "      <th>4</th>\n",
       "      <td>11KOU059</td>\n",
       "      <td>WapCre;Cdh1F/F</td>\n",
       "      <td>spindle cell tumor</td>\n",
       "      <td>11KOU059</td>\n",
       "    </tr>\n",
       "  </tbody>\n",
       "</table>\n",
       "</div>"
      ],
      "text/plain": [
       "      mouse           genotype      pathology_type    sample\n",
       "0  10KOU033  WapCre;Cdh1F/+;SB      adenocarcinoma  10KOU033\n",
       "1  11KOU046  WapCre;Cdh1F/+;SB      adenocarcinoma  11KOU046\n",
       "2  14SKA062  WapCre;Cdh1F/+;SB      adenocarcinoma  14SKA062\n",
       "3  14SKA124  WapCre;Cdh1F/+;SB  spindle cell tumor  14SKA124\n",
       "4  11KOU059     WapCre;Cdh1F/F  spindle cell tumor  11KOU059"
      ]
     },
     "execution_count": 2,
     "metadata": {},
     "output_type": "execute_result"
    }
   ],
   "source": [
    "samples_control = (pd.read_csv('../data/raw/sb/samples_control.txt', sep='\\t')\n",
    "                     .assign(sample=lambda df: df['mouse']))\n",
    "samples_control.head()"
   ]
  },
  {
   "cell_type": "code",
   "execution_count": 3,
   "metadata": {
    "collapsed": false
   },
   "outputs": [
    {
     "data": {
      "image/png": "[encoded data removed]",
      "text/plain": [
       "<matplotlib.figure.Figure at 0x7f4e642085c0>"
      ]
     },
     "metadata": {},
     "output_type": "display_data"
    },
    {
     "data": {
      "image/png": "[encoded data removed]",
      "text/plain": [
       "<matplotlib.figure.Figure at 0x7f4e64230ba8>"
      ]
     },
     "metadata": {},
     "output_type": "display_data"
    }
   ],
   "source": [
    "from copy import copy\n",
    "from nbsupport.morphology import (parse_morphology, plot_morphology,\n",
    "                                  MORPHOLOGY_TYPES, MORPHOLOGY_ORDER, \n",
    "                                  MORPHOLOGY_COLORS)\n",
    "\n",
    "types = copy(MORPHOLOGY_TYPES)\n",
    "types['Adenocarcinoma'] = 'adenocarcinoma'\n",
    "\n",
    "order = MORPHOLOGY_ORDER[:2] + ('Adenocarcinoma', )\n",
    "colors = MORPHOLOGY_COLORS[:2] + ('#a7d85b', )\n",
    "\n",
    "for genotype, grp in samples_control.groupby('genotype'):\n",
    "    morphology = parse_morphology(grp, morphology_types=types)\n",
    "    \n",
    "    fig, ax = plt.subplots(figsize=(5, 2))\n",
    "    plot_morphology(morphology, order=order, colors=colors, ax=ax)\n",
    "\n",
    "    ax.set_title('Tumor morphology ({})'.format(genotype))\n",
    "    \n",
    "    \n",
    "with sns.plotting_context('paper', font_scale=0.7):\n",
    "    for genotype, grp in samples_control.groupby('genotype'):\n",
    "        morphology = parse_morphology(grp, morphology_types=types)\n",
    "    \n",
    "        fig, ax = plt.subplots(figsize=(3, 1))\n",
    "        plot_morphology(morphology, order=order, colors=colors, ax=ax)\n",
    "        \n",
    "        ax.set_title('Tumor morphology ({})'.format(genotype))\n",
    "        \n",
    "        name = genotype.split(';')[-1].replace('/', '').lower()\n",
    "        fig.savefig('../reports/supplemental/figures/'\n",
    "                    'fig_s1_morphology_{}.pdf'.format(name), bbox_inches='tight')\n",
    "        plt.close(fig)"
   ]
  },
  {
   "cell_type": "markdown",
   "metadata": {},
   "source": [
    "## Supplementary Figure S3 - Morphology/subtype line bias\n",
    "\n",
    "This Supplementary Figure visualizes the distribution of tumor morphologies and expression subtypes across the two mouse lines (with different donor loci).\n",
    "\n",
    "### Morphology\n",
    "\n",
    "To visualize the distribution of tumor morphologies, we first load the sample/morphology data and then plot the number of samples with each morphology per strain using a count plot. This shows that the distribution of morphologies is highly similar between the two lines."
   ]
  },
  {
   "cell_type": "code",
   "execution_count": 4,
   "metadata": {
    "collapsed": false
   },
   "outputs": [
    {
     "data": {
      "image/png": "[encoded data removed]",
      "text/plain": [
       "<matplotlib.figure.Figure at 0x7f4e620e4cf8>"
      ]
     },
     "metadata": {},
     "output_type": "display_data"
    }
   ],
   "source": [
    "from matplotlib import pyplot as plt\n",
    "\n",
    "from nbsupport.morphology import parse_morphology, MORPHOLOGY_ORDER, MORPHOLOGY_COLORS\n",
    "\n",
    "# Read sample definition.\n",
    "samples = pd.read_csv('../data/raw/sb/samples.txt', sep='\\t')\n",
    "\n",
    "# Define morphology annotation, melt to tidy (long) format.\n",
    "morphology = (parse_morphology(samples)\n",
    "              .reset_index()\n",
    "              .pipe(pd.melt, id_vars='sample', var_name='morphology')\n",
    "              .query('value == True')\n",
    "              .drop('value', axis=1))\n",
    "\n",
    "# Merge with strain info.\n",
    "morphology = pd.merge(samples[['sample', 't2onc_type']], morphology, how='left')\n",
    "\n",
    "# Plot.\n",
    "fig, ax = plt.subplots()\n",
    "\n",
    "sns.countplot(data=morphology, x='t2onc_type', hue='morphology',\n",
    "              hue_order=MORPHOLOGY_ORDER, palette=MORPHOLOGY_COLORS)\n",
    "\n",
    "ax.set_xlabel('T2/onc transgenic line')\n",
    "ax.set_ylabel('Number of samples')\n",
    "ax.set_title('Morphology distribution across T2/onc transgenic lines')\n",
    "ax.legend(title='Morphology')\n",
    "sns.despine(fig)\n",
    "\n",
    "with sns.plotting_context('paper', font_scale=0.7):\n",
    "    fig, ax = plt.subplots(figsize=(4, 3))\n",
    "   \n",
    "    sns.countplot(data=morphology, x='t2onc_type', hue='morphology',\n",
    "                  hue_order=MORPHOLOGY_ORDER, palette=MORPHOLOGY_COLORS)\n",
    "\n",
    "    ax.set_xlabel('T2/onc transgenic line')\n",
    "    ax.set_ylabel('Number of samples')\n",
    "    ax.set_title('Morphology distribution across T2/onc transgenic lines')\n",
    "    ax.legend(title='Morphology')\n",
    "    sns.despine(fig)\n",
    "    \n",
    "    fig.savefig('../reports/supplemental/figures/'\n",
    "                'fig_s3_donor_morphology.pdf', bbox_inches='tight')\n",
    "    plt.close(fig)"
   ]
  },
  {
   "cell_type": "markdown",
   "metadata": {},
   "source": [
    "To formally test for associations between the SB line and morphology, we use the Fisher Exact test. This shows that there are no statistically significant associations between these variables:"
   ]
  },
  {
   "cell_type": "code",
   "execution_count": 5,
   "metadata": {
    "collapsed": false
   },
   "outputs": [
    {
     "data": {
      "text/html": [
       "<div>\n",
       "<table border=\"1\" class=\"dataframe\">\n",
       "  <thead>\n",
       "    <tr style=\"text-align: right;\">\n",
       "      <th></th>\n",
       "      <th>pos_chr1-donor</th>\n",
       "      <th>pos_chr15-donor</th>\n",
       "      <th>p_value</th>\n",
       "      <th>q_value</th>\n",
       "    </tr>\n",
       "    <tr>\n",
       "      <th>morphology</th>\n",
       "      <th></th>\n",
       "      <th></th>\n",
       "      <th></th>\n",
       "      <th></th>\n",
       "    </tr>\n",
       "  </thead>\n",
       "  <tbody>\n",
       "    <tr>\n",
       "      <th>ILC</th>\n",
       "      <td>41</td>\n",
       "      <td>58</td>\n",
       "      <td>0.495455</td>\n",
       "      <td>0.676226</td>\n",
       "    </tr>\n",
       "    <tr>\n",
       "      <th>Spindle cell</th>\n",
       "      <td>25</td>\n",
       "      <td>29</td>\n",
       "      <td>0.584011</td>\n",
       "      <td>0.676226</td>\n",
       "    </tr>\n",
       "    <tr>\n",
       "      <th>Squamous</th>\n",
       "      <td>14</td>\n",
       "      <td>16</td>\n",
       "      <td>0.676226</td>\n",
       "      <td>0.676226</td>\n",
       "    </tr>\n",
       "  </tbody>\n",
       "</table>\n",
       "</div>"
      ],
      "text/plain": [
       "              pos_chr1-donor  pos_chr15-donor   p_value   q_value\n",
       "morphology                                                       \n",
       "ILC                       41               58  0.495455  0.676226\n",
       "Spindle cell              25               29  0.584011  0.676226\n",
       "Squamous                  14               16  0.676226  0.676226"
      ]
     },
     "execution_count": 5,
     "metadata": {},
     "output_type": "execute_result"
    }
   ],
   "source": [
    "from nbsupport.morphology import test_strain_bias\n",
    "\n",
    "test_strain_bias(morphology, value='morphology', incl_neg=False)"
   ]
  },
  {
   "cell_type": "markdown",
   "metadata": {},
   "source": [
    "### Subtypes\n",
    "\n",
    "Here, we perform a similar analysis as above for the gene expression subtypes."
   ]
  },
  {
   "cell_type": "code",
   "execution_count": 6,
   "metadata": {
    "collapsed": false
   },
   "outputs": [
    {
     "data": {
      "image/png": "[encoded data removed]",
      "text/plain": [
       "<matplotlib.figure.Figure at 0x7f4e6203b9e8>"
      ]
     },
     "metadata": {},
     "output_type": "display_data"
    }
   ],
   "source": [
    "from nbsupport.expression.subtypes import SUBTYPE_ORDER, SUBTYPE_COLORS\n",
    "\n",
    "# Read subtypes and merge with strain info.\n",
    "subtypes = (pd.read_csv('../data/processed/sb/nmf/subtypes.txt', sep='\\t')\n",
    "              .rename(columns={'Unnamed: 0': 'sample'}))\n",
    "\n",
    "subtypes = pd.merge(samples[['sample', 't2onc_type']], \n",
    "                    subtypes[['sample', 'subtype']],\n",
    "                    on='sample', how='left')\n",
    "\n",
    "# Plot.\n",
    "fig, ax = plt.subplots()\n",
    "sns.countplot(data=subtypes, x='t2onc_type', hue='subtype',\n",
    "              hue_order=SUBTYPE_ORDER, palette=SUBTYPE_COLORS)\n",
    "ax.set_xlabel('T2/onc transgenic line')\n",
    "ax.set_ylabel('Number of samples')\n",
    "ax.set_title('Subtype distribution across T2/onc transgenic lines')\n",
    "ax.legend(title='Subtype')\n",
    "sns.despine(fig)\n",
    "\n",
    "with sns.plotting_context('paper', font_scale=0.7):\n",
    "    fig, ax = plt.subplots(figsize=(4, 3))\n",
    "    \n",
    "    sns.countplot(data=subtypes, x='t2onc_type', hue='subtype',\n",
    "                  hue_order=SUBTYPE_ORDER, palette=SUBTYPE_COLORS)\n",
    "\n",
    "    ax.set_xlabel('T2/onc transgenic line')\n",
    "    ax.set_ylabel('Number of samples')\n",
    "    ax.set_title('Subtype distribution across T2/onc transgenic lines')\n",
    "    ax.legend(title='Subtype')\n",
    "    sns.despine(fig)\n",
    "    \n",
    "    fig.savefig('../reports/supplemental/figures/'\n",
    "                'fig_s3_donor_subtypes.pdf', bbox_inches='tight')\n",
    "    plt.close(fig)"
   ]
  },
  {
   "cell_type": "markdown",
   "metadata": {},
   "source": [
    "The plots show that there is little bias (if any) between the two SB lines with respect to the expression subtypes. This is supported by our Fishers Exact test, which does not find any signfiicant associations:"
   ]
  },
  {
   "cell_type": "code",
   "execution_count": 7,
   "metadata": {
    "collapsed": false
   },
   "outputs": [
    {
     "data": {
      "text/html": [
       "<div>\n",
       "<table border=\"1\" class=\"dataframe\">\n",
       "  <thead>\n",
       "    <tr style=\"text-align: right;\">\n",
       "      <th></th>\n",
       "      <th>pos_chr1-donor</th>\n",
       "      <th>pos_chr15-donor</th>\n",
       "      <th>p_value</th>\n",
       "      <th>q_value</th>\n",
       "    </tr>\n",
       "    <tr>\n",
       "      <th>subtype</th>\n",
       "      <th></th>\n",
       "      <th></th>\n",
       "      <th></th>\n",
       "      <th></th>\n",
       "    </tr>\n",
       "  </thead>\n",
       "  <tbody>\n",
       "    <tr>\n",
       "      <th>ILC-1</th>\n",
       "      <td>16</td>\n",
       "      <td>18</td>\n",
       "      <td>0.684632</td>\n",
       "      <td>0.912843</td>\n",
       "    </tr>\n",
       "    <tr>\n",
       "      <th>ILC-2</th>\n",
       "      <td>11</td>\n",
       "      <td>22</td>\n",
       "      <td>0.220706</td>\n",
       "      <td>0.806742</td>\n",
       "    </tr>\n",
       "    <tr>\n",
       "      <th>Spindle cell-like</th>\n",
       "      <td>15</td>\n",
       "      <td>15</td>\n",
       "      <td>0.403371</td>\n",
       "      <td>0.806742</td>\n",
       "    </tr>\n",
       "    <tr>\n",
       "      <th>Squamous-like</th>\n",
       "      <td>11</td>\n",
       "      <td>15</td>\n",
       "      <td>1.000000</td>\n",
       "      <td>1.000000</td>\n",
       "    </tr>\n",
       "  </tbody>\n",
       "</table>\n",
       "</div>"
      ],
      "text/plain": [
       "                   pos_chr1-donor  pos_chr15-donor   p_value   q_value\n",
       "subtype                                                               \n",
       "ILC-1                          16               18  0.684632  0.912843\n",
       "ILC-2                          11               22  0.220706  0.806742\n",
       "Spindle cell-like              15               15  0.403371  0.806742\n",
       "Squamous-like                  11               15  1.000000  1.000000"
      ]
     },
     "execution_count": 7,
     "metadata": {},
     "output_type": "execute_result"
    }
   ],
   "source": [
    "test_strain_bias(subtypes, value='subtype', incl_neg=False)"
   ]
  },
  {
   "cell_type": "markdown",
   "metadata": {},
   "source": [
    "## Supplementary Figure S9 - Myh9 insertions\n",
    "\n",
    "This Figure quantifies the number of insertions per sample for *Myh9*, showing that the most samples have a single insertion."
   ]
  },
  {
   "cell_type": "code",
   "execution_count": 8,
   "metadata": {
    "collapsed": false
   },
   "outputs": [
    {
     "data": {
      "image/png": "[encoded data removed]",
      "text/plain": [
       "<matplotlib.figure.Figure at 0x7f4e624392e8>"
      ]
     },
     "metadata": {},
     "output_type": "display_data"
    }
   ],
   "source": [
    "# Read insertions\n",
    "insertions = pd.read_csv('../data/processed/sb/shear_splink/subset/all/'\n",
    "                         'insertions.cis.rbm.txt', sep='\\t')\n",
    "\n",
    "# Plot.\n",
    "fig, ax = plt.subplots(figsize=(5, 4))\n",
    "sns.countplot(data=(insertions.query('gene_name == \"Myh9\"')\n",
    "                              .groupby('sample')['id'].nunique()\n",
    "                              .to_frame(name='count')),\n",
    "              x='count', color='lightgrey', ax=ax)\n",
    "sns.despine()\n",
    "\n",
    "ax.set_xlabel('Number of insertions in sample')\n",
    "ax.set_ylabel('Number of samples')\n",
    "\n",
    "# Plot again for manuscript.\n",
    "with sns.plotting_context('paper', font_scale=0.7):\n",
    "    fig, ax = plt.subplots(figsize=(2.5, 2))\n",
    "    sns.countplot(data=(insertions.query('gene_name == \"Myh9\"')\n",
    "                                  .groupby('sample')['id'].nunique()\n",
    "                                  .to_frame(name='count')),\n",
    "                  x='count', color='lightgrey', ax=ax)\n",
    "    sns.despine()\n",
    "\n",
    "    ax.set_xlabel('Number of insertions in sample')\n",
    "    ax.set_ylabel('Number of samples');\n",
    "    \n",
    "    fig.savefig('../reports/supplemental/figures/fig_s9_myh9_insertions.pdf',\n",
    "                bbox_inches='tight')\n",
    "    plt.close(fig)"
   ]
  },
  {
   "cell_type": "markdown",
   "metadata": {},
   "source": [
    "## Supplementary Figure S12 - Morphology (validation)\n",
    "\n",
    "This Supplementary Figure provides an overview of the morphology for the different tumors obtained in the validation of *Aspp2* (a.k.a. *Trp53bp2*) and *Mypt1* (a.k.a. *Ppp1r12a*) using the GEMM mouse models and the validation of *Myh9* via intraductal injection of sgRNAs targeting *Myh9*.\n",
    "\n",
    "First, we read the morphology overview of these samples:"
   ]
  },
  {
   "cell_type": "code",
   "execution_count": 9,
   "metadata": {
    "collapsed": false
   },
   "outputs": [
    {
     "data": {
      "text/plain": [
       "genotype\n",
       "WcrH;Ecad;Aspp2    30\n",
       "WcrH;Ecad;Mypt1    27\n",
       "pLCG sgMyh9        11\n",
       "dtype: int64"
      ]
     },
     "execution_count": 9,
     "metadata": {},
     "output_type": "execute_result"
    }
   ],
   "source": [
    "samples_val = (pd.read_csv('../data/raw/sb/samples_validation.txt', sep='\\t')\n",
    "                 .assign(sample=lambda df: df['mouse'] + '-' + df['block'].astype(str))\n",
    "                 .query('pathology_type != \"no tumor\"'))\n",
    "\n",
    "samples_val.groupby('genotype').size()"
   ]
  },
  {
   "cell_type": "markdown",
   "metadata": {},
   "source": [
    "Next, we plot an overview of their morphologies, using the same style as used in the morphology analysis in Figure 1."
   ]
  },
  {
   "cell_type": "code",
   "execution_count": 10,
   "metadata": {
    "collapsed": false
   },
   "outputs": [
    {
     "data": {
      "image/png": "[encoded data removed]",
      "text/plain": [
       "<matplotlib.figure.Figure at 0x7f4e61ecc1d0>"
      ]
     },
     "metadata": {},
     "output_type": "display_data"
    },
    {
     "data": {
      "image/png": "[encoded data removed]",
      "text/plain": [
       "<matplotlib.figure.Figure at 0x7f4e61eccb38>"
      ]
     },
     "metadata": {},
     "output_type": "display_data"
    },
    {
     "data": {
      "image/png": "[encoded data removed]",
      "text/plain": [
       "<matplotlib.figure.Figure at 0x7f4e61d72a58>"
      ]
     },
     "metadata": {},
     "output_type": "display_data"
    }
   ],
   "source": [
    "import re\n",
    "from nbsupport.morphology import parse_morphology, plot_morphology\n",
    "\n",
    "for genotype, grp in samples_val.groupby('genotype'):\n",
    "    fig, ax = plt.subplots(figsize=(6, 2))\n",
    "    plot_morphology(parse_morphology(grp), ax=ax)\n",
    "    ax.set_title('Tumor morphology ({})'.format(genotype))\n",
    "\n",
    "with sns.plotting_context('paper', font_scale=0.7):\n",
    "    for genotype, grp in samples_val.groupby('genotype'):\n",
    "        fig, ax = plt.subplots(figsize=(4, 1))\n",
    "        plot_morphology(parse_morphology(grp), ax=ax)\n",
    "        ax.set_title('Tumor morphology ()'.format(genotype))\n",
    "    \n",
    "        fig.savefig('../reports/supplemental/figures/fig_s12_gemm_morph_{}.pdf'\n",
    "                    .format(re.split(r'[; ]', genotype)[-1].lower()),\n",
    "                    bbox_inches='tight')\n",
    "        plt.close(fig)"
   ]
  }
 ],
 "metadata": {
  "anaconda-cloud": {},
  "kernelspec": {
   "display_name": "Python 3",
   "language": "python",
   "name": "python3"
  },
  "language_info": {
   "codemirror_mode": {
    "name": "ipython",
    "version": 3
   },
   "file_extension": ".py",
   "mimetype": "text/x-python",
   "name": "python",
   "nbconvert_exporter": "python",
   "pygments_lexer": "ipython3",
   "version": "3.5.2"
  }
 },
 "nbformat": 4,
 "nbformat_minor": 1
}
