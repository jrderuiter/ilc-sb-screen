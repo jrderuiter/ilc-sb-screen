{
 "cells": [
  {
   "cell_type": "code",
   "execution_count": 1,
   "metadata": {
    "collapsed": true
   },
   "outputs": [],
   "source": [
    "%reload_ext autoreload\n",
    "%autoreload 2\n",
    "\n",
    "%matplotlib inline\n",
    "\n",
    "import sys\n",
    "sys.path.append('../src')\n",
    "\n",
    "import numpy as np\n",
    "import matplotlib.pyplot as plt\n",
    "import pandas as pd\n",
    "import seaborn as sns\n",
    "\n",
    "sns.set_style('white')"
   ]
  },
  {
   "cell_type": "markdown",
   "metadata": {},
   "source": [
    "# S7 - Myh9 insertions"
   ]
  },
  {
   "cell_type": "code",
   "execution_count": 2,
   "metadata": {
    "collapsed": false
   },
   "outputs": [
    {
     "data": {
      "image/png": "[encoded data removed]",
      "text/plain": [
       "<matplotlib.figure.Figure at 0x7fe057f3a940>"
      ]
     },
     "metadata": {},
     "output_type": "display_data"
    }
   ],
   "source": [
    "insertions = pd.read_csv('../data/processed/sb/shear_splink/all/insertions.cis.rbm.txt', sep='\\t')\n",
    "\n",
    "fig, ax = plt.subplots(figsize=(5, 4))\n",
    "sns.countplot(data=(insertions.query('gene_name == \"Myh9\"')\n",
    "                              .groupby('sample')['id'].nunique()\n",
    "                              .to_frame(name='count')),\n",
    "              x='count', color='lightgrey', ax=ax)\n",
    "sns.despine()\n",
    "\n",
    "ax.set_xlabel('Number of insertions in sample')\n",
    "ax.set_ylabel('Number of samples');"
   ]
  },
  {
   "cell_type": "code",
   "execution_count": 3,
   "metadata": {
    "collapsed": false
   },
   "outputs": [],
   "source": [
    "with sns.plotting_context('paper', font_scale=0.7):\n",
    "    fig, ax = plt.subplots(figsize=(2.5, 2))\n",
    "    sns.countplot(data=(insertions.query('gene_name == \"Myh9\"')\n",
    "                                  .groupby('sample')['id'].nunique()\n",
    "                                  .to_frame(name='count')),\n",
    "                  x='count', color='lightgrey', ax=ax)\n",
    "    sns.despine()\n",
    "\n",
    "    ax.set_xlabel('Number of insertions in sample')\n",
    "    ax.set_ylabel('Number of samples');\n",
    "    \n",
    "    fig.savefig('../reports/supplemental/figures/fig_s7_myh9_insertions.pdf',\n",
    "                bbox_inches='tight')\n",
    "    plt.close(fig)"
   ]
  },
  {
   "cell_type": "markdown",
   "metadata": {},
   "source": [
    "# Strain/subtype bias"
   ]
  },
  {
   "cell_type": "code",
   "execution_count": 49,
   "metadata": {
    "collapsed": false
   },
   "outputs": [
    {
     "data": {
      "image/png": "[encoded data removed]",
      "text/plain": [
       "<matplotlib.figure.Figure at 0x7fe0555469e8>"
      ]
     },
     "metadata": {},
     "output_type": "display_data"
    }
   ],
   "source": [
    "from matplotlib import pyplot as plt\n",
    "\n",
    "from nbsupport.morphology import parse_morphology, MORPHOLOGY_ORDER, MORPHOLOGY_COLORS\n",
    "\n",
    "# Read sample definition.\n",
    "samples = pd.read_csv('../data/raw/sb/samples.txt', sep='\\t')\n",
    "\n",
    "# Define morphology annotation, melt to tidy (long) format.\n",
    "morphology = (parse_morphology(samples)\n",
    "              .reset_index()\n",
    "              .pipe(pd.melt, id_vars='sample', var_name='morphology')\n",
    "              .query('value == True')\n",
    "              .drop('value', axis=1))\n",
    "\n",
    "# Merge with strain info.\n",
    "morphology = pd.merge(samples[['sample', 't2onc_type']], morphology, how='left')\n",
    "\n",
    "# Plot.\n",
    "fig, ax = plt.subplots()\n",
    "\n",
    "sns.countplot(data=morphology, x='t2onc_type', hue='morphology',\n",
    "              hue_order=MORPHOLOGY_ORDER, palette=MORPHOLOGY_COLORS)\n",
    "\n",
    "ax.set_xlabel('SB line')\n",
    "ax.set_ylabel('Number of samples')\n",
    "ax.set_title('Morphology distribution across SB lines')\n",
    "ax.legend(title='Morphology')\n",
    "sns.despine(fig)\n",
    "\n",
    "with sns.plotting_context('paper', font_scale=0.7):\n",
    "    fig, ax = plt.subplots(figsize=(4, 3))\n",
    "   \n",
    "    sns.countplot(data=morphology, x='t2onc_type', hue='morphology',\n",
    "                  hue_order=MORPHOLOGY_ORDER, palette=MORPHOLOGY_COLORS)\n",
    "\n",
    "    ax.set_xlabel('SB line')\n",
    "    ax.set_ylabel('Number of samples')\n",
    "    ax.set_title('Morphology distribution across SB lines')\n",
    "    ax.legend(title='Morphology')\n",
    "    sns.despine(fig)\n",
    "    \n",
    "    fig.savefig('../reports/supplemental/figures/fig_sx_donor_morphology.pdf', bbox_inches='tight')\n",
    "    plt.close(fig)"
   ]
  },
  {
   "cell_type": "code",
   "execution_count": 50,
   "metadata": {
    "collapsed": false
   },
   "outputs": [
    {
     "data": {
      "text/html": [
       "<div>\n",
       "<table border=\"1\" class=\"dataframe\">\n",
       "  <thead>\n",
       "    <tr style=\"text-align: right;\">\n",
       "      <th></th>\n",
       "      <th>pos_chr1-donor</th>\n",
       "      <th>pos_chr15-donor</th>\n",
       "      <th>p_value</th>\n",
       "      <th>q_value</th>\n",
       "    </tr>\n",
       "    <tr>\n",
       "      <th>morphology</th>\n",
       "      <th></th>\n",
       "      <th></th>\n",
       "      <th></th>\n",
       "      <th></th>\n",
       "    </tr>\n",
       "  </thead>\n",
       "  <tbody>\n",
       "    <tr>\n",
       "      <th>ILC</th>\n",
       "      <td>41</td>\n",
       "      <td>58</td>\n",
       "      <td>0.495455</td>\n",
       "      <td>0.676226</td>\n",
       "    </tr>\n",
       "    <tr>\n",
       "      <th>Spindle cell</th>\n",
       "      <td>25</td>\n",
       "      <td>29</td>\n",
       "      <td>0.584011</td>\n",
       "      <td>0.676226</td>\n",
       "    </tr>\n",
       "    <tr>\n",
       "      <th>Squamous</th>\n",
       "      <td>14</td>\n",
       "      <td>16</td>\n",
       "      <td>0.676226</td>\n",
       "      <td>0.676226</td>\n",
       "    </tr>\n",
       "  </tbody>\n",
       "</table>\n",
       "</div>"
      ],
      "text/plain": [
       "              pos_chr1-donor  pos_chr15-donor   p_value   q_value\n",
       "morphology                                                       \n",
       "ILC                       41               58  0.495455  0.676226\n",
       "Spindle cell              25               29  0.584011  0.676226\n",
       "Squamous                  14               16  0.676226  0.676226"
      ]
     },
     "execution_count": 50,
     "metadata": {},
     "output_type": "execute_result"
    }
   ],
   "source": [
    "from nbsupport.morphology import test_strain_bias\n",
    "\n",
    "test_strain_bias(morphology, value='morphology', incl_neg=False)"
   ]
  },
  {
   "cell_type": "code",
   "execution_count": 51,
   "metadata": {
    "collapsed": false
   },
   "outputs": [
    {
     "data": {
      "image/png": "[encoded data removed]",
      "text/plain": [
       "<matplotlib.figure.Figure at 0x7fe05557f3c8>"
      ]
     },
     "metadata": {},
     "output_type": "display_data"
    }
   ],
   "source": [
    "from nbsupport.expression.subtypes import SUBTYPE_ORDER, SUBTYPE_COLORS\n",
    "\n",
    "# Read subtypes and merge with strain info.\n",
    "subtypes = (pd.read_csv('../data/processed/sb/nmf/subtypes.txt', sep='\\t')\n",
    "              .rename(columns={'Unnamed: 0': 'sample'}))\n",
    "\n",
    "subtypes = pd.merge(samples[['sample', 't2onc_type']], \n",
    "                    subtypes[['sample', 'subtype']],\n",
    "                    on='sample', how='left')\n",
    "\n",
    "# Plot.\n",
    "fig, ax = plt.subplots()\n",
    "sns.countplot(data=subtypes, x='t2onc_type', hue='subtype',\n",
    "              hue_order=SUBTYPE_ORDER, palette=SUBTYPE_COLORS)\n",
    "ax.set_xlabel('SB line')\n",
    "ax.set_ylabel('Number of samples')\n",
    "ax.set_title('Subtype distribution across SB lines')\n",
    "ax.legend(title='Subtype')\n",
    "sns.despine(fig)\n",
    "\n",
    "with sns.plotting_context('paper', font_scale=0.7):\n",
    "    fig, ax = plt.subplots(figsize=(4, 3))\n",
    "    \n",
    "    sns.countplot(data=subtypes, x='t2onc_type', hue='subtype',\n",
    "                  hue_order=SUBTYPE_ORDER, palette=SUBTYPE_COLORS)\n",
    "\n",
    "    ax.set_xlabel('SB line')\n",
    "    ax.set_ylabel('Number of samples')\n",
    "    ax.set_title('Subtype distribution across SB lines')\n",
    "    ax.legend(title='Subtype')\n",
    "    sns.despine(fig)\n",
    "    \n",
    "    fig.savefig('../reports/supplemental/figures/fig_sx_donor_subtypes.pdf', bbox_inches='tight')\n",
    "    plt.close(fig)"
   ]
  },
  {
   "cell_type": "code",
   "execution_count": 52,
   "metadata": {
    "collapsed": false
   },
   "outputs": [
    {
     "data": {
      "text/html": [
       "<div>\n",
       "<table border=\"1\" class=\"dataframe\">\n",
       "  <thead>\n",
       "    <tr style=\"text-align: right;\">\n",
       "      <th></th>\n",
       "      <th>pos_chr1-donor</th>\n",
       "      <th>pos_chr15-donor</th>\n",
       "      <th>p_value</th>\n",
       "      <th>q_value</th>\n",
       "    </tr>\n",
       "    <tr>\n",
       "      <th>subtype</th>\n",
       "      <th></th>\n",
       "      <th></th>\n",
       "      <th></th>\n",
       "      <th></th>\n",
       "    </tr>\n",
       "  </thead>\n",
       "  <tbody>\n",
       "    <tr>\n",
       "      <th>EMT-like</th>\n",
       "      <td>15</td>\n",
       "      <td>15</td>\n",
       "      <td>0.403371</td>\n",
       "      <td>0.806742</td>\n",
       "    </tr>\n",
       "    <tr>\n",
       "      <th>ILC-1</th>\n",
       "      <td>16</td>\n",
       "      <td>18</td>\n",
       "      <td>0.684632</td>\n",
       "      <td>0.912843</td>\n",
       "    </tr>\n",
       "    <tr>\n",
       "      <th>ILC-2</th>\n",
       "      <td>11</td>\n",
       "      <td>22</td>\n",
       "      <td>0.220706</td>\n",
       "      <td>0.806742</td>\n",
       "    </tr>\n",
       "    <tr>\n",
       "      <th>Squamous-like</th>\n",
       "      <td>11</td>\n",
       "      <td>15</td>\n",
       "      <td>1.000000</td>\n",
       "      <td>1.000000</td>\n",
       "    </tr>\n",
       "  </tbody>\n",
       "</table>\n",
       "</div>"
      ],
      "text/plain": [
       "               pos_chr1-donor  pos_chr15-donor   p_value   q_value\n",
       "subtype                                                           \n",
       "EMT-like                   15               15  0.403371  0.806742\n",
       "ILC-1                      16               18  0.684632  0.912843\n",
       "ILC-2                      11               22  0.220706  0.806742\n",
       "Squamous-like              11               15  1.000000  1.000000"
      ]
     },
     "execution_count": 52,
     "metadata": {},
     "output_type": "execute_result"
    }
   ],
   "source": [
    "test_strain_bias(subtypes, value='subtype', incl_neg=False)"
   ]
  },
  {
   "cell_type": "markdown",
   "metadata": {},
   "source": [
    "# GEMM/Intraductal morphology"
   ]
  },
  {
   "cell_type": "code",
   "execution_count": 55,
   "metadata": {
    "collapsed": false
   },
   "outputs": [
    {
     "data": {
      "text/plain": [
       "genotype\n",
       "WcrH;Ecad;Aspp2    30\n",
       "WcrH;Ecad;Mypt1    27\n",
       "pLCG sgMyh9        11\n",
       "dtype: int64"
      ]
     },
     "execution_count": 55,
     "metadata": {},
     "output_type": "execute_result"
    }
   ],
   "source": [
    "samples = (pd.read_csv('../data/raw/sb/samples_validation.txt', sep='\\t')\n",
    "             .assign(sample=lambda df: df['mouse'] + '-' + df['block'].astype(str))\n",
    "             .query('pathology_type != \"no tumor\"'))\n",
    "\n",
    "samples.groupby('genotype').size()"
   ]
  },
  {
   "cell_type": "code",
   "execution_count": 62,
   "metadata": {
    "collapsed": false
   },
   "outputs": [
    {
     "data": {
      "image/png": "[encoded data removed]",
      "text/plain": [
       "<matplotlib.figure.Figure at 0x7fe054dc7da0>"
      ]
     },
     "metadata": {},
     "output_type": "display_data"
    },
    {
     "data": {
      "image/png": "[encoded data removed]",
      "text/plain": [
       "<matplotlib.figure.Figure at 0x7fe054f78940>"
      ]
     },
     "metadata": {},
     "output_type": "display_data"
    },
    {
     "data": {
      "image/png": "[encoded data removed]",
      "text/plain": [
       "<matplotlib.figure.Figure at 0x7fe055551c88>"
      ]
     },
     "metadata": {},
     "output_type": "display_data"
    }
   ],
   "source": [
    "from nbsupport.morphology import parse_morphology, plot_morphology\n",
    "\n",
    "for genotype, grp in samples.groupby('genotype'):\n",
    "    fig, ax = plt.subplots(figsize=(6, 2))\n",
    "    plot_morphology(parse_morphology(grp), ax=ax)\n",
    "    ax.set_title('Tumor morphology ({})'.format(genotype))\n",
    "\n",
    "with sns.plotting_context('paper', font_scale=0.7):\n",
    "    for genotype, grp in samples.groupby('genotype'):\n",
    "        fig, ax = plt.subplots(figsize=(4, 1))\n",
    "        plot_morphology(parse_morphology(grp), ax=ax)\n",
    "        ax.set_title('Tumor morphology ($\\it{{{}}}$)'.format(genotype))\n",
    "        \n",
    "        # ax.set_title('Tumor morphology ($\\it{{{}}}$)'.format(genotype))\n",
    "    \n",
    "        fig.savefig('../reports/supplemental/figures/fig_sy_gemm_morph_{}.pdf'\n",
    "                    .format(re.split(r'[; ]', genotype)[-1].lower()),\n",
    "                    bbox_inches='tight')\n",
    "        plt.close(fig)"
   ]
  },
  {
   "cell_type": "code",
   "execution_count": null,
   "metadata": {
    "collapsed": true
   },
   "outputs": [],
   "source": []
  }
 ],
 "metadata": {
  "anaconda-cloud": {},
  "kernelspec": {
   "display_name": "Python 3",
   "language": "python",
   "name": "python3"
  },
  "language_info": {
   "codemirror_mode": {
    "name": "ipython",
    "version": 3
   },
   "file_extension": ".py",
   "mimetype": "text/x-python",
   "name": "python",
   "nbconvert_exporter": "python",
   "pygments_lexer": "ipython3",
   "version": "3.5.2"
  }
 },
 "nbformat": 4,
 "nbformat_minor": 1
}
