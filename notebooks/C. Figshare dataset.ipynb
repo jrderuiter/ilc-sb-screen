{
 "cells": [
  {
   "cell_type": "markdown",
   "metadata": {},
   "source": [
    "# Figshare dataset\n",
    "\n",
    "This notebook produces the gene expression and insertion tables included in the Figshare dataset."
   ]
  },
  {
   "cell_type": "code",
   "execution_count": 1,
   "metadata": {
    "collapsed": true
   },
   "outputs": [],
   "source": [
    "%matplotlib inline\n",
    "\n",
    "%load_ext autoreload\n",
    "%autoreload 2\n",
    "\n",
    "import sys\n",
    "sys.path.append('../src')\n",
    "\n",
    "import pandas as pd\n",
    "import seaborn as sns\n",
    "\n",
    "sns.set_style('white')"
   ]
  },
  {
   "cell_type": "markdown",
   "metadata": {},
   "source": [
    "First we copy over the sample overview from the supplemental tables, which describes the samples in both datasets."
   ]
  },
  {
   "cell_type": "code",
   "execution_count": 2,
   "metadata": {
    "collapsed": false
   },
   "outputs": [],
   "source": [
    "! mkdir -p ../reports/figshare\n",
    "! cp ../reports/supplemental/tables/table_s1_samples.xlsx ../reports/figshare/sample_overview.xlsx"
   ]
  },
  {
   "cell_type": "markdown",
   "metadata": {},
   "source": [
    "Next, we create an additional Excel file that contains the raw RNA-seq counts for the three different mouse datasets (SB, EcadPten and KB1P)."
   ]
  },
  {
   "cell_type": "code",
   "execution_count": null,
   "metadata": {
    "collapsed": false
   },
   "outputs": [],
   "source": [
    "sb_counts = pd.read_csv('../data/processed/sb/rnaseq/gene_counts.txt', sep='\\t', index_col=0)\n",
    "kb1p_counts = pd.read_csv('../data/processed/kb1p/gene_counts.txt', sep='\\t', index_col=0)\n",
    "pten_counts = pd.read_csv('../data/processed/pten/gene_counts.txt', sep='\\t', index_col=0)\n",
    "\n",
    "with pd.ExcelWriter('../reports/figshare/expression.xlsx') as writer:\n",
    "    sb_counts.to_excel(writer, sheet_name='SB samples')\n",
    "    kb1p_counts.to_excel(writer, sheet_name='KB1P samples')\n",
    "    pten_counts.to_excel(writer, sheet_name='EcadPten samples')"
   ]
  },
  {
   "cell_type": "markdown",
   "metadata": {},
   "source": [
    "Finally, we create an Excel file that contains the insertions, annotated insertions, cis sites, cis insertions and insertion-to-cis mapping for the insertion dataset."
   ]
  },
  {
   "cell_type": "code",
   "execution_count": null,
   "metadata": {
    "collapsed": true
   },
   "outputs": [],
   "source": [
    "insertions = pd.read_csv('../data/processed/sb/shear_splink/'\n",
    "                         'subset/all/insertions.txt', sep='\\t')\n",
    "insertions_annotated = pd.read_csv('../data/processed/sb/shear_splink/'\n",
    "                                   'subset/all/insertions.cis.rbm.txt', sep='\\t')\n",
    "\n",
    "cis_sites = pd.read_csv('../data/processed/sb/shear_splink/subset/'\n",
    "                        'all/insertions.cis.sites.txt', sep='\\t')\n",
    "cis_insertions = pd.read_csv('../data/processed/sb/shear_splink/subset/'\n",
    "                             'all/insertions.cis.txt', sep='\\t')\n",
    "\n",
    "cis_mapping = cis_insertions[['id', 'cis_id']]\n",
    "\n",
    "with pd.ExcelWriter('../reports/figshare/insertions.xlsx') as writer:\n",
    "    insertions.to_excel(writer, sheet_name='insertions', index=False)\n",
    "    cis_sites.to_excel(writer, sheet_name='cis_sites', index=False)\n",
    "    cis_mapping.to_excel(writer, sheet_name='cis_mapping', index=False)\n",
    "    insertions_annotated.to_excel(writer, sheet_name='insertions_annotated', index=False)"
   ]
  }
 ],
 "metadata": {
  "kernelspec": {
   "display_name": "Python 3",
   "language": "python",
   "name": "python3"
  },
  "language_info": {
   "codemirror_mode": {
    "name": "ipython",
    "version": 3
   },
   "file_extension": ".py",
   "mimetype": "text/x-python",
   "name": "python",
   "nbconvert_exporter": "python",
   "pygments_lexer": "ipython3",
   "version": "3.5.2"
  }
 },
 "nbformat": 4,
 "nbformat_minor": 2
}
