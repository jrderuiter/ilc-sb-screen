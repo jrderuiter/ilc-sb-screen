{
 "cells": [
  {
   "cell_type": "code",
   "execution_count": 1,
   "metadata": {
    "collapsed": true
   },
   "outputs": [],
   "source": [
    "%reload_ext autoreload\n",
    "%autoreload 2\n",
    "\n",
    "%matplotlib inline\n",
    "\n",
    "import sys\n",
    "sys.path.append('../src')\n",
    "\n",
    "import matplotlib.pyplot as plt\n",
    "import pandas as pd\n",
    "import seaborn as sns\n",
    "\n",
    "sns.set_style('white')"
   ]
  },
  {
   "cell_type": "code",
   "execution_count": 2,
   "metadata": {
    "collapsed": false
   },
   "outputs": [],
   "source": [
    "from nbsupport import morphology as morph\n",
    "from nbsupport.util import sort_matrix\n",
    "\n",
    "# Read sample definition.\n",
    "samples = pd.read_csv('../data/raw/samples.txt', sep='\\t')\n",
    "\n",
    "# Define morphology annotation based on sample definitions.\n",
    "morphology = (\n",
    "    pd.DataFrame({\n",
    "        'sample': samples['sample'],\n",
    "        'Classical ILC': samples['pathology_type'].str.startswith('classical ILC'),\n",
    "        'Non-classical ILC': samples['pathology_type'].str.contains('nonclassical'),\n",
    "        'EMT': samples['pathology_type'].str.contains('EMT'),\n",
    "        'Squamous': samples['pathology_type'].str.contains('squamous')\n",
    "    }, columns=['sample', 'Classical ILC', 'EMT', 'Squamous', 'Non-classical ILC'])\n",
    "    .set_index('sample')\n",
    "    .fillna(False))\n",
    "\n",
    "# Sort matrix values.\n",
    "morphology = sort_matrix(morphology, sort_columns=False)\n",
    "\n",
    "# Write morphology matrix for use in later notebooks.\n",
    "morphology.to_csv('../data/processed/morphology.txt', sep='\\t', index=True)"
   ]
  },
  {
   "cell_type": "code",
   "execution_count": 3,
   "metadata": {
    "collapsed": false
   },
   "outputs": [
    {
     "data": {
      "image/png": "[encoded data removed]",
      "text/plain": [
       "<matplotlib.figure.Figure at 0x11161ad30>"
      ]
     },
     "metadata": {},
     "output_type": "display_data"
    }
   ],
   "source": [
    "# Read mouse metastases.\n",
    "metastases = pd.read_csv('../data/raw/metastases.txt', sep='\\t')\n",
    "metastases = metastases.ix[metastases['mouse'].isin(samples['mouse'])]\n",
    "\n",
    "# Merge morphology with metastasis data.\n",
    "met_samples = (\n",
    "    samples.get(['mouse', 'sample'])\n",
    "           .assign(Metastasis=lambda df: df['mouse'].isin(set(metastases['mouse'])))\n",
    "           .drop('mouse', axis=1)\n",
    "           .set_index('sample'))\n",
    "\n",
    "merged = pd.concat([morphology, met_samples], axis=1)\n",
    "\n",
    "# Plot as heatmap.\n",
    "fig, ax = plt.subplots(figsize=(8, 2))\n",
    "morph.plot_morphology(merged, palette=sns.color_palette('Set2'),\n",
    "                      ax=ax, sort_columns=False)\n",
    "ax.set_xlabel('Samples ({})'.format(merged.shape[0]))\n",
    "\n",
    "# Draw again for paper.\n",
    "with sns.plotting_context('paper', font_scale=0.7):\n",
    "    fig, ax = plt.subplots(figsize=(4.5, 1.4))\n",
    "    morph.plot_morphology(merged, sns.color_palette('Set2'),\n",
    "                          sort_columns=False, ax=ax)\n",
    "    ax.set_xlabel('Samples ({})'.format(merged.shape[0]))\n",
    "\n",
    "fig.savefig('../reports/figures/fig_1_morphology.pdf', bbox_inches='tight')\n",
    "plt.close(fig)"
   ]
  },
  {
   "cell_type": "code",
   "execution_count": 24,
   "metadata": {
    "collapsed": false
   },
   "outputs": [
    {
     "data": {
      "text/html": [
       "<div>\n",
       "<table border=\"1\" class=\"dataframe\">\n",
       "  <thead>\n",
       "    <tr style=\"text-align: right;\">\n",
       "      <th></th>\n",
       "      <th>a</th>\n",
       "      <th>b</th>\n",
       "      <th>p_value</th>\n",
       "      <th>p_value_corr</th>\n",
       "    </tr>\n",
       "  </thead>\n",
       "  <tbody>\n",
       "    <tr>\n",
       "      <th>0</th>\n",
       "      <td>Classical ILC</td>\n",
       "      <td>Metastasis</td>\n",
       "      <td>0.131605</td>\n",
       "      <td>0.526420</td>\n",
       "    </tr>\n",
       "    <tr>\n",
       "      <th>1</th>\n",
       "      <td>EMT</td>\n",
       "      <td>Metastasis</td>\n",
       "      <td>0.991968</td>\n",
       "      <td>0.991968</td>\n",
       "    </tr>\n",
       "    <tr>\n",
       "      <th>2</th>\n",
       "      <td>Squamous</td>\n",
       "      <td>Metastasis</td>\n",
       "      <td>0.814093</td>\n",
       "      <td>0.991968</td>\n",
       "    </tr>\n",
       "    <tr>\n",
       "      <th>3</th>\n",
       "      <td>Non-classical ILC</td>\n",
       "      <td>Metastasis</td>\n",
       "      <td>0.403166</td>\n",
       "      <td>0.806332</td>\n",
       "    </tr>\n",
       "  </tbody>\n",
       "</table>\n",
       "</div>"
      ],
      "text/plain": [
       "                   a           b   p_value  p_value_corr\n",
       "0      Classical ILC  Metastasis  0.131605      0.526420\n",
       "1                EMT  Metastasis  0.991968      0.991968\n",
       "2           Squamous  Metastasis  0.814093      0.991968\n",
       "3  Non-classical ILC  Metastasis  0.403166      0.806332"
      ]
     },
     "execution_count": 24,
     "metadata": {},
     "output_type": "execute_result"
    }
   ],
   "source": [
    "from nbsupport.enrichment import associations as nb_assoc\n",
    "\n",
    "# Subset the merged matrix to mice that have a single tumor or\n",
    "# multiple tumors with the same morphology.\n",
    "mouse_path_count = samples.groupby('mouse')['pathology_type'].nunique()\n",
    "\n",
    "unique_mice = set(mouse_path_count.ix[mouse_path_count == 1].index)\n",
    "unique_samples = set(samples.ix[samples['mouse'].isin(unique_mice), 'sample'])\n",
    "\n",
    "merged_unique = merged.ix[unique_samples]\n",
    "\n",
    "# Test for associations between morphology and metastasis.\n",
    "nb_assoc.test_associations(merged_unique[merged_unique.columns[0:4]],\n",
    "                           merged_unique[['Metastasis']],\n",
    "                           alternative='greater')"
   ]
  },
  {
   "cell_type": "code",
   "execution_count": 4,
   "metadata": {
    "collapsed": false
   },
   "outputs": [
    {
     "data": {
      "image/png": "[encoded data removed]",
      "text/plain": [
       "<matplotlib.figure.Figure at 0x1115e25f8>"
      ]
     },
     "metadata": {},
     "output_type": "display_data"
    }
   ],
   "source": [
    "# Pivot to matrix of mice-by-sites.\n",
    "metastases_mat = pd.pivot_table(\n",
    "    metastases, index='mouse', columns='metastasis_site',\n",
    "    aggfunc=len, fill_value=0)\n",
    "\n",
    "# Plot metastasis matrix.\n",
    "fig, ax = plt.subplots(figsize=(8, 3))\n",
    "morph.plot_metastases(metastases_mat, ax=ax)\n",
    "ax.set_xlabel('Mice with metastases ({})'\n",
    "              .format(metastases_mat.shape[0]))\n",
    "ax.set_ylabel('Metastasis site')\n",
    "\n",
    "# Draw again for paper.\n",
    "with sns.plotting_context('paper', font_scale=0.7):\n",
    "    fig, ax = plt.subplots(figsize=(3, 1.5))\n",
    "    \n",
    "    morph.plot_metastases(metastases_mat, ax=ax)\n",
    "    ax.set_xlabel('Mice with metastases ({})'\n",
    "              .format(metastases_mat.shape[0]))\n",
    "    ax.set_ylabel('Metastasis site')\n",
    "\n",
    "    fig.savefig('../reports/figures/fig_1_metastases.pdf', bbox_inches='tight')\n",
    "    plt.close(fig)"
   ]
  }
 ],
 "metadata": {
  "anaconda-cloud": {},
  "kernelspec": {
   "display_name": "Python 3",
   "language": "python",
   "name": "python3"
  },
  "language_info": {
   "codemirror_mode": {
    "name": "ipython",
    "version": 3
   },
   "file_extension": ".py",
   "mimetype": "text/x-python",
   "name": "python",
   "nbconvert_exporter": "python",
   "pygments_lexer": "ipython3",
   "version": "3.5.2"
  }
 },
 "nbformat": 4,
 "nbformat_minor": 0
}
