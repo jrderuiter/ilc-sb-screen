{
 "cells": [
  {
   "cell_type": "markdown",
   "metadata": {},
   "source": [
    "# Tumor morphology\n",
    "\n",
    "This Jupyter notebook reproduces various panels from Figure 1."
   ]
  },
  {
   "cell_type": "code",
   "execution_count": 1,
   "metadata": {
    "collapsed": true
   },
   "outputs": [],
   "source": [
    "%reload_ext autoreload\n",
    "%autoreload 2\n",
    "\n",
    "%matplotlib inline\n",
    "\n",
    "import sys\n",
    "sys.path.append('../src')\n",
    "\n",
    "import matplotlib.pyplot as plt\n",
    "import pandas as pd\n",
    "import seaborn as sns\n",
    "\n",
    "sns.set_style('white')"
   ]
  },
  {
   "cell_type": "markdown",
   "metadata": {},
   "source": [
    "## Morphology overview\n",
    "\n",
    "To provide an overview of the different morphologies for each of the samples, we parse the provided pathology descriptions into three pre-defined categories (ILC, Spindle cell and Squamous) that make up these descriptions. This allows us to determine which morphologies are present in each sample."
   ]
  },
  {
   "cell_type": "code",
   "execution_count": 2,
   "metadata": {
    "collapsed": false
   },
   "outputs": [
    {
     "data": {
      "text/html": [
       "<div>\n",
       "<table border=\"1\" class=\"dataframe\">\n",
       "  <thead>\n",
       "    <tr style=\"text-align: right;\">\n",
       "      <th></th>\n",
       "      <th>ILC</th>\n",
       "      <th>Spindle cell</th>\n",
       "      <th>Squamous</th>\n",
       "    </tr>\n",
       "    <tr>\n",
       "      <th>sample</th>\n",
       "      <th></th>\n",
       "      <th></th>\n",
       "      <th></th>\n",
       "    </tr>\n",
       "  </thead>\n",
       "  <tbody>\n",
       "    <tr>\n",
       "      <th>11KOU018</th>\n",
       "      <td>True</td>\n",
       "      <td>True</td>\n",
       "      <td>True</td>\n",
       "    </tr>\n",
       "    <tr>\n",
       "      <th>11KOU031-R5</th>\n",
       "      <td>True</td>\n",
       "      <td>True</td>\n",
       "      <td>True</td>\n",
       "    </tr>\n",
       "    <tr>\n",
       "      <th>12SKA017</th>\n",
       "      <td>True</td>\n",
       "      <td>True</td>\n",
       "      <td>True</td>\n",
       "    </tr>\n",
       "    <tr>\n",
       "      <th>12SKA029-R5-L5</th>\n",
       "      <td>True</td>\n",
       "      <td>True</td>\n",
       "      <td>True</td>\n",
       "    </tr>\n",
       "    <tr>\n",
       "      <th>12SKA038-R5</th>\n",
       "      <td>True</td>\n",
       "      <td>True</td>\n",
       "      <td>True</td>\n",
       "    </tr>\n",
       "  </tbody>\n",
       "</table>\n",
       "</div>"
      ],
      "text/plain": [
       "                 ILC Spindle cell Squamous\n",
       "sample                                    \n",
       "11KOU018        True         True     True\n",
       "11KOU031-R5     True         True     True\n",
       "12SKA017        True         True     True\n",
       "12SKA029-R5-L5  True         True     True\n",
       "12SKA038-R5     True         True     True"
      ]
     },
     "execution_count": 2,
     "metadata": {},
     "output_type": "execute_result"
    }
   ],
   "source": [
    "from nbsupport import morphology as morph\n",
    "from nbsupport.util.clustermap import sort_matrix\n",
    "\n",
    "# Read sample definition.\n",
    "samples = (pd.read_csv('../data/raw/sb/samples.txt', sep='\\t')\n",
    "             .assign(pathology_type=lambda df: df['pathology_type'].str.lower()))\n",
    "\n",
    "# Define morphology annotation based on sample definitions.\n",
    "morphology = morph.parse_morphology(samples)\n",
    "\n",
    "morphology.head()"
   ]
  },
  {
   "cell_type": "markdown",
   "metadata": {},
   "source": [
    "As we are also interested in visualizing which samples have metastases, we read the provided metastasis overview (which lists the metastasis sites observed in each mouse) and translate this overview from mouse ids to the corresponding samples."
   ]
  },
  {
   "cell_type": "code",
   "execution_count": 3,
   "metadata": {
    "collapsed": false
   },
   "outputs": [],
   "source": [
    "# Read mouse metastases.\n",
    "metastases = pd.read_csv('../data/raw/sb/metastases.txt', sep='\\t')\n",
    "metastases = metastases.ix[metastases['mouse'].isin(samples['mouse'])]\n",
    "\n",
    "# Assign metastases to samples.\n",
    "sample_metastases = (\n",
    "    samples.get(['mouse', 'sample'])\n",
    "           .assign(Metastasis=lambda df: df['mouse'].isin(set(metastases['mouse'])))\n",
    "           .drop('mouse', axis=1)\n",
    "           .set_index('sample'))"
   ]
  },
  {
   "cell_type": "markdown",
   "metadata": {},
   "source": [
    "Finally, we use the function **plot_morphology** to visualize the morphologies together with the metastasis data in a 2D heatmap. This function essentially plots each of the binary categories as a colored heatmap (with a separate color for each column) and adds some styling. The resulting heatmap provides a nice overview of the distribution of morphologies, whilst highlighting the fact that many tumors show multiple morphologies."
   ]
  },
  {
   "cell_type": "code",
   "execution_count": 4,
   "metadata": {
    "collapsed": false
   },
   "outputs": [
    {
     "data": {
      "image/png": "[encoded data removed]",
      "text/plain": [
       "<matplotlib.figure.Figure at 0x7fb50aeffe10>"
      ]
     },
     "metadata": {},
     "output_type": "display_data"
    }
   ],
   "source": [
    "# Plot as heatmap.\n",
    "fig, ax = plt.subplots(figsize=(8, 2))\n",
    "morph.plot_morphology(morphology, sample_metastases, ax=ax)\n",
    "ax.set_xlabel('Samples ({})'.format(morphology.shape[0]));\n",
    "\n",
    "# Draw again for paper.\n",
    "with sns.plotting_context('paper', font_scale=0.7):\n",
    "    fig, ax = plt.subplots(figsize=(4.5, 1.4))\n",
    "    morph.plot_morphology(morphology, sample_metastases, ax=ax)\n",
    "    ax.set_xlabel('Samples ({})'.format(morphology.shape[0]))\n",
    "\n",
    "fig.savefig('../reports/figures/fig_1_morphology.pdf', bbox_inches='tight')\n",
    "plt.close(fig)"
   ]
  },
  {
   "cell_type": "markdown",
   "metadata": {},
   "source": [
    "## Metastasis sites\n",
    "\n",
    "To visualize the general locations of metastases in these mice, we use the provided metastasis overview (which lists metastasis sites for each mouse) to create a 2D matrix of sites-by-mice. This boolean matrix is the plotted as a binary heatmap."
   ]
  },
  {
   "cell_type": "code",
   "execution_count": 5,
   "metadata": {
    "collapsed": false
   },
   "outputs": [
    {
     "data": {
      "image/png": "[encoded data removed]",
      "text/plain": [
       "<matplotlib.figure.Figure at 0x7fb5090bc748>"
      ]
     },
     "metadata": {},
     "output_type": "display_data"
    }
   ],
   "source": [
    "# Pivot to matrix of mice-by-sites.\n",
    "metastases_mat = pd.pivot_table(\n",
    "    metastases, index='mouse', columns='metastasis_site',\n",
    "    aggfunc=len, fill_value=0)\n",
    "\n",
    "# Plot metastasis matrix.\n",
    "fig, ax = plt.subplots(figsize=(8, 3))\n",
    "morph.plot_metastases(metastases_mat, ax=ax)\n",
    "ax.set_xlabel('Mice with metastases ({})'\n",
    "              .format(metastases_mat.shape[0]))\n",
    "ax.set_ylabel('Metastasis site')\n",
    "\n",
    "# Draw again for paper.\n",
    "with sns.plotting_context('paper', font_scale=0.7):\n",
    "    fig, ax = plt.subplots(figsize=(3, 1.5))\n",
    "    \n",
    "    morph.plot_metastases(metastases_mat, ax=ax)\n",
    "    ax.set_xlabel('Mice with metastases ({})'\n",
    "              .format(metastases_mat.shape[0]))\n",
    "    ax.set_ylabel('Metastasis site')\n",
    "\n",
    "    fig.savefig('../reports/figures/fig_1_metastases.pdf', bbox_inches='tight')\n",
    "    plt.close(fig)"
   ]
  }
 ],
 "metadata": {
  "anaconda-cloud": {},
  "kernelspec": {
   "display_name": "Python 3",
   "language": "python",
   "name": "python3"
  },
  "language_info": {
   "codemirror_mode": {
    "name": "ipython",
    "version": 3
   },
   "file_extension": ".py",
   "mimetype": "text/x-python",
   "name": "python",
   "nbconvert_exporter": "python",
   "pygments_lexer": "ipython3",
   "version": "3.5.2"
  }
 },
 "nbformat": 4,
 "nbformat_minor": 0
}
