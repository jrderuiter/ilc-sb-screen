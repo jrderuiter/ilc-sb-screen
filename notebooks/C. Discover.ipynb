{
 "cells": [
  {
   "cell_type": "code",
   "execution_count": 1,
   "metadata": {
    "collapsed": true
   },
   "outputs": [],
   "source": [
    "import sys\n",
    "sys.path.append('../src')\n",
    "\n",
    "import pandas as pd"
   ]
  },
  {
   "cell_type": "code",
   "execution_count": 2,
   "metadata": {
    "collapsed": false
   },
   "outputs": [
    {
     "data": {
      "text/plain": [
       "(32, 118)"
      ]
     },
     "execution_count": 2,
     "metadata": {},
     "output_type": "execute_result"
    }
   ],
   "source": [
    "# Read insertions.\n",
    "insertions = pd.read_csv('../data/processed/shear_splink/all/'\n",
    "                         'insertions.cis.rbm.txt', sep='\\t')\n",
    "\n",
    "# Convert to matrix.\n",
    "ins_mat = pd.pivot_table(\n",
    "    insertions, index='gene_name', columns='sample',\n",
    "    values='support', aggfunc='max', fill_value=0)\n",
    "\n",
    "# Convert to boolean.\n",
    "ins_mat = (ins_mat > 0).astype(int)\n",
    "\n",
    "ins_mat.shape"
   ]
  },
  {
   "cell_type": "code",
   "execution_count": 6,
   "metadata": {
    "collapsed": false
   },
   "outputs": [
    {
     "data": {
      "text/html": [
       "<div>\n",
       "<table border=\"1\" class=\"dataframe\">\n",
       "  <thead>\n",
       "    <tr style=\"text-align: right;\">\n",
       "      <th></th>\n",
       "      <th>gene1</th>\n",
       "      <th>gene2</th>\n",
       "      <th>pvalue</th>\n",
       "      <th>qvalue</th>\n",
       "    </tr>\n",
       "  </thead>\n",
       "  <tbody>\n",
       "    <tr>\n",
       "      <th>0</th>\n",
       "      <td>Myh9</td>\n",
       "      <td>Ppp1r12a</td>\n",
       "      <td>0.002165</td>\n",
       "      <td>0.027040</td>\n",
       "    </tr>\n",
       "    <tr>\n",
       "      <th>1</th>\n",
       "      <td>Myh9</td>\n",
       "      <td>Trp53bp2</td>\n",
       "      <td>0.010873</td>\n",
       "      <td>0.078253</td>\n",
       "    </tr>\n",
       "    <tr>\n",
       "      <th>2</th>\n",
       "      <td>Ppp1r12a</td>\n",
       "      <td>Ppp1r12b</td>\n",
       "      <td>0.004994</td>\n",
       "      <td>0.037428</td>\n",
       "    </tr>\n",
       "    <tr>\n",
       "      <th>3</th>\n",
       "      <td>Ppp1r12a</td>\n",
       "      <td>Trp53bp2</td>\n",
       "      <td>0.002814</td>\n",
       "      <td>0.027040</td>\n",
       "    </tr>\n",
       "  </tbody>\n",
       "</table>\n",
       "</div>"
      ],
      "text/plain": [
       "      gene1     gene2    pvalue    qvalue\n",
       "0      Myh9  Ppp1r12a  0.002165  0.027040\n",
       "1      Myh9  Trp53bp2  0.010873  0.078253\n",
       "2  Ppp1r12a  Ppp1r12b  0.004994  0.037428\n",
       "3  Ppp1r12a  Trp53bp2  0.002814  0.027040"
      ]
     },
     "execution_count": 6,
     "metadata": {},
     "output_type": "execute_result"
    }
   ],
   "source": [
    "import discover\n",
    "\n",
    "# Test pairwise mutex.\n",
    "events = discover.DiscoverMatrix(ins_mat)\n",
    "result_mutex = discover.pairwise_discover_test(events)\n",
    "result_mutex.significant_pairs(q_threshold=0.1)"
   ]
  },
  {
   "cell_type": "code",
   "execution_count": 7,
   "metadata": {
    "collapsed": false
   },
   "outputs": [
    {
     "data": {
      "text/plain": [
       "1.4402033070734405e-06"
      ]
     },
     "execution_count": 7,
     "metadata": {},
     "output_type": "execute_result"
    }
   ],
   "source": [
    "# Test group-wise for this larger group.\n",
    "genes = [\"Myh9\", \"Trp53bp2\", \"Ppp1r12a\", \"Ppp1r12b\"]\n",
    "discover.groupwise_discover_test(events[genes])"
   ]
  },
  {
   "cell_type": "code",
   "execution_count": null,
   "metadata": {
    "collapsed": true
   },
   "outputs": [],
   "source": []
  }
 ],
 "metadata": {
  "anaconda-cloud": {},
  "kernelspec": {
   "display_name": "Python 3",
   "language": "python",
   "name": "python3"
  },
  "language_info": {
   "codemirror_mode": {
    "name": "ipython",
    "version": 3
   },
   "file_extension": ".py",
   "mimetype": "text/x-python",
   "name": "python",
   "nbconvert_exporter": "python",
   "pygments_lexer": "ipython3",
   "version": "3.5.2"
  }
 },
 "nbformat": 4,
 "nbformat_minor": 1
}
