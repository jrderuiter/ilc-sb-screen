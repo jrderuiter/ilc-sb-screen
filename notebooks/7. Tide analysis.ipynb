{
 "cells": [
  {
   "cell_type": "markdown",
   "metadata": {},
   "source": [
    "# TIDE analysis\n",
    "\n",
    "This Jupyter notebook reproduces the TIDE analysis plot for Figure 7."
   ]
  },
  {
   "cell_type": "code",
   "execution_count": 1,
   "metadata": {
    "collapsed": false
   },
   "outputs": [],
   "source": [
    "%reload_ext autoreload\n",
    "%autoreload 2\n",
    "\n",
    "%matplotlib inline\n",
    "\n",
    "import sys\n",
    "sys.path.append('../src')\n",
    "\n",
    "import matplotlib.pyplot as plt\n",
    "import pandas as pd\n",
    "import seaborn as sns\n",
    "\n",
    "sns.set_style('white')"
   ]
  },
  {
   "cell_type": "markdown",
   "metadata": {},
   "source": [
    "First we read the results from TIDE, which essentially lists the percentages and significance for indels between -10 and +10."
   ]
  },
  {
   "cell_type": "code",
   "execution_count": 2,
   "metadata": {
    "collapsed": false
   },
   "outputs": [
    {
     "data": {
      "text/html": [
       "<div>\n",
       "<table border=\"1\" class=\"dataframe\">\n",
       "  <thead>\n",
       "    <tr style=\"text-align: right;\">\n",
       "      <th></th>\n",
       "      <th>shift</th>\n",
       "      <th>percentage</th>\n",
       "      <th>pvalue</th>\n",
       "    </tr>\n",
       "  </thead>\n",
       "  <tbody>\n",
       "    <tr>\n",
       "      <th>0</th>\n",
       "      <td>-10</td>\n",
       "      <td>0.1</td>\n",
       "      <td>0.770</td>\n",
       "    </tr>\n",
       "    <tr>\n",
       "      <th>1</th>\n",
       "      <td>-9</td>\n",
       "      <td>0.4</td>\n",
       "      <td>0.260</td>\n",
       "    </tr>\n",
       "    <tr>\n",
       "      <th>2</th>\n",
       "      <td>-8</td>\n",
       "      <td>0.0</td>\n",
       "      <td>1.000</td>\n",
       "    </tr>\n",
       "    <tr>\n",
       "      <th>3</th>\n",
       "      <td>-7</td>\n",
       "      <td>0.6</td>\n",
       "      <td>0.097</td>\n",
       "    </tr>\n",
       "    <tr>\n",
       "      <th>4</th>\n",
       "      <td>-6</td>\n",
       "      <td>0.0</td>\n",
       "      <td>1.000</td>\n",
       "    </tr>\n",
       "  </tbody>\n",
       "</table>\n",
       "</div>"
      ],
      "text/plain": [
       "   shift  percentage  pvalue\n",
       "0    -10         0.1   0.770\n",
       "1     -9         0.4   0.260\n",
       "2     -8         0.0   1.000\n",
       "3     -7         0.6   0.097\n",
       "4     -6         0.0   1.000"
      ]
     },
     "execution_count": 2,
     "metadata": {},
     "output_type": "execute_result"
    }
   ],
   "source": [
    "from nbsupport import tide\n",
    "\n",
    "# Read the TIDE results.\n",
    "data_tumor = pd.read_csv('../data/raw/sb/tide/myh9_tumor.txt', sep='\\t')\n",
    "data_5_days = pd.read_csv('../data/raw/sb/tide/myh9_5_days.txt', sep='\\t')\n",
    "data_50_days = pd.read_csv('../data/raw/sb/tide/myh9_50_days.txt', sep='\\t')\n",
    "\n",
    "data_tumor.head()"
   ]
  },
  {
   "cell_type": "markdown",
   "metadata": {},
   "source": [
    "Then we plot these data using our custom plotting function, which recreates the original TIDE plots using matplotlib."
   ]
  },
  {
   "cell_type": "code",
   "execution_count": 3,
   "metadata": {
    "collapsed": false
   },
   "outputs": [
    {
     "data": {
      "image/png": "[encoded data removed]",
      "text/plain": [
       "<matplotlib.figure.Figure at 0x7f0b569d5358>"
      ]
     },
     "metadata": {},
     "output_type": "display_data"
    }
   ],
   "source": [
    "# Plot the results.\n",
    "fig, axes = plt.subplots(ncols=3, figsize=(16, 4.2))\n",
    "tide.plot(data_tumor, overall_efficiency=7, ax=axes[0])\n",
    "tide.plot(data_5_days, overall_efficiency=3.7, ax=axes[1])\n",
    "tide.plot(data_50_days, overall_efficiency=99, ax=axes[2])\n",
    "\n",
    "axes[0].set_title('Tumor')\n",
    "axes[1].set_title('Cells - 5 days')\n",
    "axes[2].set_title('Cells - 50 days')\n",
    "\n",
    "for ax in axes:\n",
    "    ax.set_xlim(4.5, 15.5)\n",
    "\n",
    "# Plot again for manuscript.\n",
    "with sns.plotting_context('paper', font_scale=0.7): \n",
    "    fig, axes = plt.subplots(ncols=3, figsize=(9.5, 2.5))\n",
    "\n",
    "    tide.plot(data_tumor, overall_efficiency=7, \n",
    "              ax=axes[0], label_kws={'fontsize': 6})\n",
    "    tide.plot(data_5_days, overall_efficiency=3.7,\n",
    "              ax=axes[1], label_kws={'fontsize': 6})\n",
    "    tide.plot(data_50_days, overall_efficiency=99,\n",
    "              ax=axes[2], label_kws={'fontsize': 6})\n",
    "   \n",
    "    axes[0].set_title('Tumor')\n",
    "    axes[1].set_title('5 days after isolation')\n",
    "    axes[2].set_title('50 days after isolation')\n",
    "\n",
    "    for ax in axes:\n",
    "        ax.set_xlim(4.5, 15.5)\n",
    "        \n",
    "    fig.savefig('../reports/figures/fig_7e_tide.pdf', bbox_inches='tight')\n",
    "    plt.close(fig)"
   ]
  }
 ],
 "metadata": {
  "anaconda-cloud": {},
  "kernelspec": {
   "display_name": "Python 3",
   "language": "python",
   "name": "python3"
  },
  "language_info": {
   "codemirror_mode": {
    "name": "ipython",
    "version": 3
   },
   "file_extension": ".py",
   "mimetype": "text/x-python",
   "name": "python",
   "nbconvert_exporter": "python",
   "pygments_lexer": "ipython3",
   "version": "3.5.2"
  }
 },
 "nbformat": 4,
 "nbformat_minor": 0
}
